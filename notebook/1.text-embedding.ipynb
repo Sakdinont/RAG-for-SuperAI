{
 "cells": [
  {
   "cell_type": "code",
   "execution_count": 6,
   "metadata": {},
   "outputs": [],
   "source": [
    "# %pip install llama-index-embeddings-huggingface\n",
    "# %pip install llama-index-embeddings-instructor\n",
    "# %pip install llama-index"
   ]
  },
  {
   "cell_type": "code",
   "execution_count": 7,
   "metadata": {},
   "outputs": [],
   "source": [
    "from llama_index.embeddings.huggingface import HuggingFaceEmbedding"
   ]
  },
  {
   "cell_type": "code",
   "execution_count": 11,
   "metadata": {},
   "outputs": [],
   "source": [
    "embedding_model_name = '../../bge-m3'\n",
    "# embedding_model_name = 'kornwtp/simcse-model-phayathaibert'\n",
    "embed_model = HuggingFaceEmbedding(model_name=embedding_model_name,max_length=1024, device='cpu')"
   ]
  },
  {
   "cell_type": "code",
   "execution_count": 12,
   "metadata": {},
   "outputs": [
    {
     "name": "stdout",
     "output_type": "stream",
     "text": [
      "1024\n"
     ]
    }
   ],
   "source": [
    "embeddings = embed_model.get_text_embedding(\"Hello World!\")\n",
    "print(len(embeddings))"
   ]
  },
  {
   "cell_type": "code",
   "execution_count": 13,
   "metadata": {},
   "outputs": [
    {
     "name": "stdout",
     "output_type": "stream",
     "text": [
      "[-0.04197610542178154, 0.021790793165564537, -0.03246308118104935, 0.010755062103271484, -0.01882355660200119]\n"
     ]
    }
   ],
   "source": [
    "print(embeddings[:5])"
   ]
  },
  {
   "cell_type": "code",
   "execution_count": 14,
   "metadata": {},
   "outputs": [],
   "source": [
    "text1 = 'พระนครศรีอยุธยา เป็นจังหวัดหนึ่งในภาคกลางและเป็นเขตเศรษฐกิจอุตสาหกรรมที่สำคัญ โดยมีผลิตภัณฑ์มวลรวมของจังหวัดมีมูลค่าสูงเป็นอันดับ 3 ของประเทศ[3] และมีประวัติศาสตร์ความเป็นมาที่ยาวนาน เคยมีชื่อเสียงเป็นแหล่งปลูกข้าวที่สำคัญ จังหวัดพระนครศรีอยุธยาเป็นจังหวัดเดียวในประเทศไทยที่ไม่มีอำเภอเมือง แต่มี อำเภอพระนครศรีอยุธยา เป็นศูนย์กลางการบริหารจัดการด้านต่าง ๆ ชาวบ้านโดยทั่วไปนิยมเรียกอีกชื่อว่า \"กรุงเก่า\" หรือ \"เมืองกรุงเก่า\" ห่างจากกรุงเทพมหานครประมาณ 75 กิโลเมตร'\n",
    "text2 = 'ประวัติศาสตร์ บทความหลัก: อาณาจักรอยุธยากรุงศรีอยุธยา (พ.ศ. 2209) วาดโดยบริษัทอินเดียตะวันออกของเนเธอร์แลนด์พระนครศรีอยุธยาเคยเป็นราชธานี (เมืองหลวง) ของอาณาจักรอยุธยา หรืออาณาจักรสยาม ตลอดระยะเวลา 417 ปี ตั้งแต่ พ.ศ. 1893 กระทั่งเสียกรุงแก่พม่า เมื่อ พ.ศ. 2310 ครั้นเมื่อพระเจ้าตากสินมหาราชทรงสถาปนาราชธานีแห่งใหม่ที่กรุงธนบุรี กรุงศรีอยุธยาก็ไม่ได้กลายเป็นเมืองร้าง ยังมีคนที่รักถิ่นฐานบ้านเดิมอาศัยอยู่และมีราษฎรที่หลบหนีไปอยู่ตามป่ากลับเข้ามาอาศัยอยู่รอบ ๆ เมือง รวมกันเข้าเป็นเมือง จนทางการยกเป็นเมืองจัตวาเรียกว่า \"เมืองกรุงเก่า\"'\n",
    "text3 = 'เมื่อ พ.ศ. 2325 ในรัชสมัยพระบาทสมเด็จพระพุทธยอดฟ้าจุฬาโลกมหาราช ทรงยกเมืองกรุงเก่าขึ้นเป็น หัวเมืองจัตวา เช่นเดียวกับในสมัยกรุงธนบุรี หลังจากนั้น พระบาทสมเด็จพระจุลจอมเกล้าเจ้าอยู่หัวโปรดให้จัดการปฏิรูปการปกครองทั้งส่วนกลางและส่วนภูมิภาค โดยการปกครองส่วนภูมิภาคนั้น โปรดให้จัดการปกครองแบบเทศาภิบาลขึ้น โดยให้รวมเมืองที่อยู่ใกล้เคียงกัน 3-4 เมือง ขึ้นเป็นมณฑล มีข้าหลวงเทศาภิบาลเป็นผู้ปกครอง โดยในปี พ.ศ. 2438 โปรดให้จัดตั้งมณฑลกรุงเก่าขึ้น ประกอบด้วยหัวเมืองต่าง ๆ คือ กรุงเก่าหรืออยุธยา อ่างทอง สระบุรี พระพุทธบาท ลพบุรี พรหมบุรี อินทร์บุรี และสิงห์บุรี'\n",
    "text4 = 'ต่อมาทรงพระกรุณาโปรดเกล้าฯ ให้รวมเมืองอินทร์บุรีและเมืองพรหมบุรีเข้ากับเมืองสิงห์บุรี รวมเมืองพระพุทธบาทเข้ากับเมืองสระบุรี ตั้งที่ว่าการมณฑลที่อยุธยา และในปี พ.ศ. 2469 เปลี่ยนชื่อจาก \"มณฑลกรุงเก่า\" เป็น \"มณฑลอยุธยา\" ซึ่งจากการจัดตั้งมณฑลอยุธยามีผลให้อยุธยามีความสำคัญทางการบริหารการปกครองมากขึ้น การสร้างสิ่งสาธารณูปโภคหลายอย่างมีผลต่อการพัฒนาเมืองอยุธยาในเวลาต่อมา จนเมื่อยกเลิกการปกครองระบบมณฑลเทศาภิบาล ภายหลังการเปลี่ยนแปลงการปกครอง พ.ศ. 2475 อยุธยาจึงเปลี่ยนฐานะเป็นจังหวัดพระนครศรีอยุธยาจนถึงปัจจุบัน'"
   ]
  },
  {
   "cell_type": "code",
   "execution_count": 15,
   "metadata": {},
   "outputs": [],
   "source": [
    "text1_emb = embed_model.get_text_embedding(text1)\n",
    "text2_emb = embed_model.get_text_embedding(text2)\n",
    "text3_emb = embed_model.get_text_embedding(text3)\n",
    "text4_emb = embed_model.get_text_embedding(text4)"
   ]
  },
  {
   "cell_type": "code",
   "execution_count": 16,
   "metadata": {},
   "outputs": [
    {
     "name": "stdout",
     "output_type": "stream",
     "text": [
      "[0.005539653357118368, 0.015187487006187439, -0.011643601581454277, -0.017286216840147972, -0.02198532223701477]\n",
      "[0.011683586984872818, 0.041199829429388046, -0.004172384273260832, -0.027260133996605873, -0.03603767603635788]\n",
      "[0.031089166179299355, 0.04272814095020294, -0.0050011626444756985, 0.001940460642799735, -0.016358202323317528]\n",
      "[0.021662458777427673, 0.042736466974020004, 0.019207065925002098, 0.0077247475273907185, -0.007433362305164337]\n"
     ]
    }
   ],
   "source": [
    "print(text1_emb[:5])\n",
    "print(text2_emb[:5])\n",
    "print(text3_emb[:5])\n",
    "print(text4_emb[:5])"
   ]
  },
  {
   "cell_type": "code",
   "execution_count": 19,
   "metadata": {},
   "outputs": [],
   "source": [
    "all_text_emb = embed_model.get_text_embedding(text1+text2+text3+text4)"
   ]
  },
  {
   "cell_type": "code",
   "execution_count": 20,
   "metadata": {},
   "outputs": [
    {
     "name": "stdout",
     "output_type": "stream",
     "text": [
      "[0.016539715230464935, 0.03937997668981552, -0.010712530463933945, -0.021296756342053413, -0.025445373728871346]\n"
     ]
    }
   ],
   "source": [
    "print(all_text_emb[:5])\n"
   ]
  },
  {
   "cell_type": "markdown",
   "metadata": {},
   "source": [
    "The TokenTextSplitter attempts to split to a consistent chunk size according to raw token counts."
   ]
  },
  {
   "cell_type": "code",
   "execution_count": 21,
   "metadata": {},
   "outputs": [],
   "source": [
    "from llama_index.core.node_parser import TokenTextSplitter\n",
    "splitter = TokenTextSplitter(\n",
    "    chunk_size=100,\n",
    "    chunk_overlap=50,\n",
    "    separator=\" \",\n",
    ")"
   ]
  },
  {
   "cell_type": "code",
   "execution_count": 22,
   "metadata": {},
   "outputs": [],
   "source": [
    "from llama_index.core import Document"
   ]
  },
  {
   "cell_type": "code",
   "execution_count": 23,
   "metadata": {},
   "outputs": [
    {
     "data": {
      "application/vnd.jupyter.widget-view+json": {
       "model_id": "49bf0d5baded429e9ce13744dff22b6a",
       "version_major": 2,
       "version_minor": 0
      },
      "text/plain": [
       "Parsing nodes:   0%|          | 0/1 [00:00<?, ?it/s]"
      ]
     },
     "metadata": {},
     "output_type": "display_data"
    }
   ],
   "source": [
    "nodes = splitter.get_nodes_from_documents(\n",
    "    [Document(text=text1+text2+text3+text4)], show_progress=True\n",
    ")"
   ]
  },
  {
   "cell_type": "code",
   "execution_count": 24,
   "metadata": {},
   "outputs": [
    {
     "data": {
      "text/plain": [
       "[TextNode(id_='1c9ff973-84c4-4559-a75e-cd3369d125d5', embedding=None, metadata={}, excluded_embed_metadata_keys=[], excluded_llm_metadata_keys=[], relationships={<NodeRelationship.SOURCE: '1'>: RelatedNodeInfo(node_id='bdc38f95-9e2b-4bee-b559-0d938c6fb72a', node_type=<ObjectType.DOCUMENT: '4'>, metadata={}, hash='c9a06852cac5401dfd02a2c4d728a97e77b1a3091ba33b2f00d88cfb1a2a4b96'), <NodeRelationship.NEXT: '3'>: RelatedNodeInfo(node_id='22fb4a0d-0e0a-4b03-a7bc-aadf0129b1f4', node_type=<ObjectType.TEXT: '1'>, metadata={}, hash='5096d5b3f7acf21602391c6a2e5890dd1d818b1e9a7ad3056e9f621b15deb29b')}, metadata_template='{key}: {value}', metadata_separator='\\n', text='พระนครศรีอยุธยา เป็นจังหวัดหนึ่งในภาคกลางและเป็นเขตเศรษฐกิจอุตสาหกรรมที่สำคัญ', mimetype='text/plain', start_char_idx=0, end_char_idx=77, metadata_seperator='\\n', text_template='{metadata_str}\\n\\n{content}'),\n",
       " TextNode(id_='22fb4a0d-0e0a-4b03-a7bc-aadf0129b1f4', embedding=None, metadata={}, excluded_embed_metadata_keys=[], excluded_llm_metadata_keys=[], relationships={<NodeRelationship.SOURCE: '1'>: RelatedNodeInfo(node_id='bdc38f95-9e2b-4bee-b559-0d938c6fb72a', node_type=<ObjectType.DOCUMENT: '4'>, metadata={}, hash='c9a06852cac5401dfd02a2c4d728a97e77b1a3091ba33b2f00d88cfb1a2a4b96'), <NodeRelationship.PREVIOUS: '2'>: RelatedNodeInfo(node_id='1c9ff973-84c4-4559-a75e-cd3369d125d5', node_type=<ObjectType.TEXT: '1'>, metadata={}, hash='9514f0aafc7568c0c7f3ad93b211c5e665de840867a97457cba1ea1887fae18a'), <NodeRelationship.NEXT: '3'>: RelatedNodeInfo(node_id='d9ce84a3-8a4f-439a-b359-ad24d13ea8cb', node_type=<ObjectType.TEXT: '1'>, metadata={}, hash='6c0bd6f14d849e3163d205f9327cb2ef622aa55d5c8332788f9292d2ee5c1387')}, metadata_template='{key}: {value}', metadata_separator='\\n', text='โดยมีผลิตภัณฑ์มวลรวมของจังหวัดมีมูลค่าสูงเป็นอันดับ 3 ของประเทศ[3]', mimetype='text/plain', start_char_idx=78, end_char_idx=144, metadata_seperator='\\n', text_template='{metadata_str}\\n\\n{content}'),\n",
       " TextNode(id_='d9ce84a3-8a4f-439a-b359-ad24d13ea8cb', embedding=None, metadata={}, excluded_embed_metadata_keys=[], excluded_llm_metadata_keys=[], relationships={<NodeRelationship.SOURCE: '1'>: RelatedNodeInfo(node_id='bdc38f95-9e2b-4bee-b559-0d938c6fb72a', node_type=<ObjectType.DOCUMENT: '4'>, metadata={}, hash='c9a06852cac5401dfd02a2c4d728a97e77b1a3091ba33b2f00d88cfb1a2a4b96'), <NodeRelationship.PREVIOUS: '2'>: RelatedNodeInfo(node_id='22fb4a0d-0e0a-4b03-a7bc-aadf0129b1f4', node_type=<ObjectType.TEXT: '1'>, metadata={}, hash='5096d5b3f7acf21602391c6a2e5890dd1d818b1e9a7ad3056e9f621b15deb29b'), <NodeRelationship.NEXT: '3'>: RelatedNodeInfo(node_id='d0e9b489-96e9-4211-91c0-2709e1380091', node_type=<ObjectType.TEXT: '1'>, metadata={}, hash='7b4c98aebc0c7a8c2b71094bbbde62cbba5d88a6c0bbff5341e362d49a7d140b')}, metadata_template='{key}: {value}', metadata_separator='\\n', text='3 ของประเทศ[3] และมีประวัติศาสตร์ความเป็นมาที่ยาวนาน เคยมีชื่อเสียงเป็นแหล่งปลูกข้าวที่สำคัญ', mimetype='text/plain', start_char_idx=130, end_char_idx=222, metadata_seperator='\\n', text_template='{metadata_str}\\n\\n{content}'),\n",
       " TextNode(id_='d0e9b489-96e9-4211-91c0-2709e1380091', embedding=None, metadata={}, excluded_embed_metadata_keys=[], excluded_llm_metadata_keys=[], relationships={<NodeRelationship.SOURCE: '1'>: RelatedNodeInfo(node_id='bdc38f95-9e2b-4bee-b559-0d938c6fb72a', node_type=<ObjectType.DOCUMENT: '4'>, metadata={}, hash='c9a06852cac5401dfd02a2c4d728a97e77b1a3091ba33b2f00d88cfb1a2a4b96'), <NodeRelationship.PREVIOUS: '2'>: RelatedNodeInfo(node_id='d9ce84a3-8a4f-439a-b359-ad24d13ea8cb', node_type=<ObjectType.TEXT: '1'>, metadata={}, hash='6c0bd6f14d849e3163d205f9327cb2ef622aa55d5c8332788f9292d2ee5c1387'), <NodeRelationship.NEXT: '3'>: RelatedNodeInfo(node_id='1d48f94b-0598-4fc6-905a-1f3b7469d0a9', node_type=<ObjectType.TEXT: '1'>, metadata={}, hash='c4c8db7d4e522bba5dc221949b507d57b1f6c8f23a33c6e8bdc6ed49a56cf7ca')}, metadata_template='{key}: {value}', metadata_separator='\\n', text='จังหวัดพระนครศรีอยุธยาเป็นจังหวัดเดียวในประเทศไทยที่ไม่มีอำเภอเมือง แต่มี อำเภอพระนครศรีอยุธยา', mimetype='text/plain', start_char_idx=223, end_char_idx=317, metadata_seperator='\\n', text_template='{metadata_str}\\n\\n{content}'),\n",
       " TextNode(id_='1d48f94b-0598-4fc6-905a-1f3b7469d0a9', embedding=None, metadata={}, excluded_embed_metadata_keys=[], excluded_llm_metadata_keys=[], relationships={<NodeRelationship.SOURCE: '1'>: RelatedNodeInfo(node_id='bdc38f95-9e2b-4bee-b559-0d938c6fb72a', node_type=<ObjectType.DOCUMENT: '4'>, metadata={}, hash='c9a06852cac5401dfd02a2c4d728a97e77b1a3091ba33b2f00d88cfb1a2a4b96'), <NodeRelationship.PREVIOUS: '2'>: RelatedNodeInfo(node_id='d0e9b489-96e9-4211-91c0-2709e1380091', node_type=<ObjectType.TEXT: '1'>, metadata={}, hash='7b4c98aebc0c7a8c2b71094bbbde62cbba5d88a6c0bbff5341e362d49a7d140b'), <NodeRelationship.NEXT: '3'>: RelatedNodeInfo(node_id='a4d09b76-22c8-431b-94d7-3e9036205014', node_type=<ObjectType.TEXT: '1'>, metadata={}, hash='03c066455b15d68db2a6d64d6c3cc2ec087d5c44b607929b92daaa22d7f5750d')}, metadata_template='{key}: {value}', metadata_separator='\\n', text='แต่มี อำเภอพระนครศรีอยุธยา เป็นศูนย์กลางการบริหารจัดการด้านต่าง ๆ ชาวบ้านโดยทั่วไปนิยมเรียกอีกชื่อว่า', mimetype='text/plain', start_char_idx=291, end_char_idx=392, metadata_seperator='\\n', text_template='{metadata_str}\\n\\n{content}'),\n",
       " TextNode(id_='a4d09b76-22c8-431b-94d7-3e9036205014', embedding=None, metadata={}, excluded_embed_metadata_keys=[], excluded_llm_metadata_keys=[], relationships={<NodeRelationship.SOURCE: '1'>: RelatedNodeInfo(node_id='bdc38f95-9e2b-4bee-b559-0d938c6fb72a', node_type=<ObjectType.DOCUMENT: '4'>, metadata={}, hash='c9a06852cac5401dfd02a2c4d728a97e77b1a3091ba33b2f00d88cfb1a2a4b96'), <NodeRelationship.PREVIOUS: '2'>: RelatedNodeInfo(node_id='1d48f94b-0598-4fc6-905a-1f3b7469d0a9', node_type=<ObjectType.TEXT: '1'>, metadata={}, hash='c4c8db7d4e522bba5dc221949b507d57b1f6c8f23a33c6e8bdc6ed49a56cf7ca'), <NodeRelationship.NEXT: '3'>: RelatedNodeInfo(node_id='cf1d4c03-611c-41a4-967c-602c62e29874', node_type=<ObjectType.TEXT: '1'>, metadata={}, hash='23d345beaf4529e979b4b4305daa72b7a896403feaec78e8ea15415377bd2477')}, metadata_template='{key}: {value}', metadata_separator='\\n', text='ๆ ชาวบ้านโดยทั่วไปนิยมเรียกอีกชื่อว่า \"กรุงเก่า\" หรือ \"เมืองกรุงเก่า\" ห่างจากกรุงเทพมหานครประมาณ 75', mimetype='text/plain', start_char_idx=355, end_char_idx=454, metadata_seperator='\\n', text_template='{metadata_str}\\n\\n{content}'),\n",
       " TextNode(id_='cf1d4c03-611c-41a4-967c-602c62e29874', embedding=None, metadata={}, excluded_embed_metadata_keys=[], excluded_llm_metadata_keys=[], relationships={<NodeRelationship.SOURCE: '1'>: RelatedNodeInfo(node_id='bdc38f95-9e2b-4bee-b559-0d938c6fb72a', node_type=<ObjectType.DOCUMENT: '4'>, metadata={}, hash='c9a06852cac5401dfd02a2c4d728a97e77b1a3091ba33b2f00d88cfb1a2a4b96'), <NodeRelationship.PREVIOUS: '2'>: RelatedNodeInfo(node_id='a4d09b76-22c8-431b-94d7-3e9036205014', node_type=<ObjectType.TEXT: '1'>, metadata={}, hash='03c066455b15d68db2a6d64d6c3cc2ec087d5c44b607929b92daaa22d7f5750d'), <NodeRelationship.NEXT: '3'>: RelatedNodeInfo(node_id='b59081f8-0d7c-4928-99c3-f7e96747d8ae', node_type=<ObjectType.TEXT: '1'>, metadata={}, hash='d72784249ff091c5388aa353c9f98e94ee6677fda07143053d42154d04a819ed')}, metadata_template='{key}: {value}', metadata_separator='\\n', text='หรือ \"เมืองกรุงเก่า\" ห่างจากกรุงเทพมหานครประมาณ 75 กิโลเมตรประวัติศาสตร์ บทความหลัก:', mimetype='text/plain', start_char_idx=404, end_char_idx=488, metadata_seperator='\\n', text_template='{metadata_str}\\n\\n{content}'),\n",
       " TextNode(id_='b59081f8-0d7c-4928-99c3-f7e96747d8ae', embedding=None, metadata={}, excluded_embed_metadata_keys=[], excluded_llm_metadata_keys=[], relationships={<NodeRelationship.SOURCE: '1'>: RelatedNodeInfo(node_id='bdc38f95-9e2b-4bee-b559-0d938c6fb72a', node_type=<ObjectType.DOCUMENT: '4'>, metadata={}, hash='c9a06852cac5401dfd02a2c4d728a97e77b1a3091ba33b2f00d88cfb1a2a4b96'), <NodeRelationship.PREVIOUS: '2'>: RelatedNodeInfo(node_id='cf1d4c03-611c-41a4-967c-602c62e29874', node_type=<ObjectType.TEXT: '1'>, metadata={}, hash='23d345beaf4529e979b4b4305daa72b7a896403feaec78e8ea15415377bd2477'), <NodeRelationship.NEXT: '3'>: RelatedNodeInfo(node_id='2fb71c99-7640-4407-b254-7d60bfde2f38', node_type=<ObjectType.TEXT: '1'>, metadata={}, hash='8d94543dcb48130dfbce129056a897be9505941c144233e19747ae08d97152cf')}, metadata_template='{key}: {value}', metadata_separator='\\n', text='75 กิโลเมตรประวัติศาสตร์ บทความหลัก: อาณาจักรอยุธยากรุงศรีอยุธยา (พ.ศ. 2209)', mimetype='text/plain', start_char_idx=452, end_char_idx=528, metadata_seperator='\\n', text_template='{metadata_str}\\n\\n{content}'),\n",
       " TextNode(id_='2fb71c99-7640-4407-b254-7d60bfde2f38', embedding=None, metadata={}, excluded_embed_metadata_keys=[], excluded_llm_metadata_keys=[], relationships={<NodeRelationship.SOURCE: '1'>: RelatedNodeInfo(node_id='bdc38f95-9e2b-4bee-b559-0d938c6fb72a', node_type=<ObjectType.DOCUMENT: '4'>, metadata={}, hash='c9a06852cac5401dfd02a2c4d728a97e77b1a3091ba33b2f00d88cfb1a2a4b96'), <NodeRelationship.PREVIOUS: '2'>: RelatedNodeInfo(node_id='b59081f8-0d7c-4928-99c3-f7e96747d8ae', node_type=<ObjectType.TEXT: '1'>, metadata={}, hash='d72784249ff091c5388aa353c9f98e94ee6677fda07143053d42154d04a819ed'), <NodeRelationship.NEXT: '3'>: RelatedNodeInfo(node_id='b86e4121-48d4-4cc0-ae9a-6013c73b958b', node_type=<ObjectType.TEXT: '1'>, metadata={}, hash='0f54f100278cdf33907eacb2fc197d6d46ee93993a590f217f5e6c5bfd161aec')}, metadata_template='{key}: {value}', metadata_separator='\\n', text='(พ.ศ. 2209) วาดโดยบริษัทอินเดียตะวันออกของเนเธอร์แลนด์พระนครศรีอยุธยาเคยเป็นราชธานี (เมืองหลวง)', mimetype='text/plain', start_char_idx=517, end_char_idx=612, metadata_seperator='\\n', text_template='{metadata_str}\\n\\n{content}'),\n",
       " TextNode(id_='b86e4121-48d4-4cc0-ae9a-6013c73b958b', embedding=None, metadata={}, excluded_embed_metadata_keys=[], excluded_llm_metadata_keys=[], relationships={<NodeRelationship.SOURCE: '1'>: RelatedNodeInfo(node_id='bdc38f95-9e2b-4bee-b559-0d938c6fb72a', node_type=<ObjectType.DOCUMENT: '4'>, metadata={}, hash='c9a06852cac5401dfd02a2c4d728a97e77b1a3091ba33b2f00d88cfb1a2a4b96'), <NodeRelationship.PREVIOUS: '2'>: RelatedNodeInfo(node_id='2fb71c99-7640-4407-b254-7d60bfde2f38', node_type=<ObjectType.TEXT: '1'>, metadata={}, hash='8d94543dcb48130dfbce129056a897be9505941c144233e19747ae08d97152cf'), <NodeRelationship.NEXT: '3'>: RelatedNodeInfo(node_id='a3678ac2-3f96-4bc1-94f4-826d08e46365', node_type=<ObjectType.TEXT: '1'>, metadata={}, hash='4e2aa75929fd5e4089ef011b7d72e787a4445afbb555d6d325c2b5643ad0823c')}, metadata_template='{key}: {value}', metadata_separator='\\n', text='(เมืองหลวง) ของอาณาจักรอยุธยา หรืออาณาจักรสยาม ตลอดระยะเวลา 417 ปี ตั้งแต่ พ.ศ. 1893 กระทั่งเสียกรุงแก่พม่า', mimetype='text/plain', start_char_idx=601, end_char_idx=708, metadata_seperator='\\n', text_template='{metadata_str}\\n\\n{content}'),\n",
       " TextNode(id_='a3678ac2-3f96-4bc1-94f4-826d08e46365', embedding=None, metadata={}, excluded_embed_metadata_keys=[], excluded_llm_metadata_keys=[], relationships={<NodeRelationship.SOURCE: '1'>: RelatedNodeInfo(node_id='bdc38f95-9e2b-4bee-b559-0d938c6fb72a', node_type=<ObjectType.DOCUMENT: '4'>, metadata={}, hash='c9a06852cac5401dfd02a2c4d728a97e77b1a3091ba33b2f00d88cfb1a2a4b96'), <NodeRelationship.PREVIOUS: '2'>: RelatedNodeInfo(node_id='b86e4121-48d4-4cc0-ae9a-6013c73b958b', node_type=<ObjectType.TEXT: '1'>, metadata={}, hash='0f54f100278cdf33907eacb2fc197d6d46ee93993a590f217f5e6c5bfd161aec'), <NodeRelationship.NEXT: '3'>: RelatedNodeInfo(node_id='d83b553b-4a02-4080-bcff-c6346aa5cca1', node_type=<ObjectType.TEXT: '1'>, metadata={}, hash='9ccd42fd56f88f0738d45f52085eb86201f51da1766157148dd1bac2ec0acb5e')}, metadata_template='{key}: {value}', metadata_separator='\\n', text='417 ปี ตั้งแต่ พ.ศ. 1893 กระทั่งเสียกรุงแก่พม่า เมื่อ พ.ศ. 2310', mimetype='text/plain', start_char_idx=661, end_char_idx=724, metadata_seperator='\\n', text_template='{metadata_str}\\n\\n{content}'),\n",
       " TextNode(id_='d83b553b-4a02-4080-bcff-c6346aa5cca1', embedding=None, metadata={}, excluded_embed_metadata_keys=[], excluded_llm_metadata_keys=[], relationships={<NodeRelationship.SOURCE: '1'>: RelatedNodeInfo(node_id='bdc38f95-9e2b-4bee-b559-0d938c6fb72a', node_type=<ObjectType.DOCUMENT: '4'>, metadata={}, hash='c9a06852cac5401dfd02a2c4d728a97e77b1a3091ba33b2f00d88cfb1a2a4b96'), <NodeRelationship.PREVIOUS: '2'>: RelatedNodeInfo(node_id='a3678ac2-3f96-4bc1-94f4-826d08e46365', node_type=<ObjectType.TEXT: '1'>, metadata={}, hash='4e2aa75929fd5e4089ef011b7d72e787a4445afbb555d6d325c2b5643ad0823c'), <NodeRelationship.NEXT: '3'>: RelatedNodeInfo(node_id='927d415f-a172-4090-88e9-59ddec7c0f53', node_type=<ObjectType.TEXT: '1'>, metadata={}, hash='b539d2d2f1c52d19b3ba45efc9c2b662ced3292cc1a5f0f82363a469fa706e7b')}, metadata_template='{key}: {value}', metadata_separator='\\n', text='1893 กระทั่งเสียกรุงแก่พม่า เมื่อ พ.ศ. 2310 ครั้นเมื่อพระเจ้าตากสินมหาราชทรงสถาปนาราชธานีแห่งใหม่ที่กรุงธนบุรี', mimetype='text/plain', start_char_idx=681, end_char_idx=791, metadata_seperator='\\n', text_template='{metadata_str}\\n\\n{content}'),\n",
       " TextNode(id_='927d415f-a172-4090-88e9-59ddec7c0f53', embedding=None, metadata={}, excluded_embed_metadata_keys=[], excluded_llm_metadata_keys=[], relationships={<NodeRelationship.SOURCE: '1'>: RelatedNodeInfo(node_id='bdc38f95-9e2b-4bee-b559-0d938c6fb72a', node_type=<ObjectType.DOCUMENT: '4'>, metadata={}, hash='c9a06852cac5401dfd02a2c4d728a97e77b1a3091ba33b2f00d88cfb1a2a4b96'), <NodeRelationship.PREVIOUS: '2'>: RelatedNodeInfo(node_id='d83b553b-4a02-4080-bcff-c6346aa5cca1', node_type=<ObjectType.TEXT: '1'>, metadata={}, hash='9ccd42fd56f88f0738d45f52085eb86201f51da1766157148dd1bac2ec0acb5e'), <NodeRelationship.NEXT: '3'>: RelatedNodeInfo(node_id='fb480389-ac0f-4549-8b53-0b50d6e53a48', node_type=<ObjectType.TEXT: '1'>, metadata={}, hash='432144c55671ce855d4c3007ebc6314088e147b8b4d861cfeca55f12e3659b4c')}, metadata_template='{key}: {value}', metadata_separator='\\n', text='กรุงศรีอยุธยาก็ไม่ได้กลายเป็นเมืองร้าง', mimetype='text/plain', start_char_idx=792, end_char_idx=830, metadata_seperator='\\n', text_template='{metadata_str}\\n\\n{content}'),\n",
       " TextNode(id_='fb480389-ac0f-4549-8b53-0b50d6e53a48', embedding=None, metadata={}, excluded_embed_metadata_keys=[], excluded_llm_metadata_keys=[], relationships={<NodeRelationship.SOURCE: '1'>: RelatedNodeInfo(node_id='bdc38f95-9e2b-4bee-b559-0d938c6fb72a', node_type=<ObjectType.DOCUMENT: '4'>, metadata={}, hash='c9a06852cac5401dfd02a2c4d728a97e77b1a3091ba33b2f00d88cfb1a2a4b96'), <NodeRelationship.PREVIOUS: '2'>: RelatedNodeInfo(node_id='927d415f-a172-4090-88e9-59ddec7c0f53', node_type=<ObjectType.TEXT: '1'>, metadata={}, hash='b539d2d2f1c52d19b3ba45efc9c2b662ced3292cc1a5f0f82363a469fa706e7b'), <NodeRelationship.NEXT: '3'>: RelatedNodeInfo(node_id='195a0fd1-bf3e-416c-89ea-1b48b4419c75', node_type=<ObjectType.TEXT: '1'>, metadata={}, hash='fab5192e5fb34d45e46e072b26a66da85dd197a0a8dde75166aa113c7c241549')}, metadata_template='{key}: {value}', metadata_separator='\\n', text='ยังมีคนที่รักถิ่นฐานบ้านเดิมอาศัยอยู่และมีราษฎรที่หลบหนีไปอยู่ตามป่ากลับเข้ามาอาศัยอยู่รอบ ๆ เมือง', mimetype='text/plain', start_char_idx=831, end_char_idx=929, metadata_seperator='\\n', text_template='{metadata_str}\\n\\n{content}'),\n",
       " TextNode(id_='195a0fd1-bf3e-416c-89ea-1b48b4419c75', embedding=None, metadata={}, excluded_embed_metadata_keys=[], excluded_llm_metadata_keys=[], relationships={<NodeRelationship.SOURCE: '1'>: RelatedNodeInfo(node_id='bdc38f95-9e2b-4bee-b559-0d938c6fb72a', node_type=<ObjectType.DOCUMENT: '4'>, metadata={}, hash='c9a06852cac5401dfd02a2c4d728a97e77b1a3091ba33b2f00d88cfb1a2a4b96'), <NodeRelationship.PREVIOUS: '2'>: RelatedNodeInfo(node_id='fb480389-ac0f-4549-8b53-0b50d6e53a48', node_type=<ObjectType.TEXT: '1'>, metadata={}, hash='432144c55671ce855d4c3007ebc6314088e147b8b4d861cfeca55f12e3659b4c'), <NodeRelationship.NEXT: '3'>: RelatedNodeInfo(node_id='7e01e0cb-0dd0-4d39-8ef2-5fb083a3d284', node_type=<ObjectType.TEXT: '1'>, metadata={}, hash='ef92e2d2f19ababa2358a22ce4c291e1a33b991e6cb44f02450ff6d939103eb7')}, metadata_template='{key}: {value}', metadata_separator='\\n', text='ๆ เมือง รวมกันเข้าเป็นเมือง จนทางการยกเป็นเมืองจัตวาเรียกว่า \"เมืองกรุงเก่า\"เมื่อ พ.ศ. 2325', mimetype='text/plain', start_char_idx=922, end_char_idx=1013, metadata_seperator='\\n', text_template='{metadata_str}\\n\\n{content}'),\n",
       " TextNode(id_='7e01e0cb-0dd0-4d39-8ef2-5fb083a3d284', embedding=None, metadata={}, excluded_embed_metadata_keys=[], excluded_llm_metadata_keys=[], relationships={<NodeRelationship.SOURCE: '1'>: RelatedNodeInfo(node_id='bdc38f95-9e2b-4bee-b559-0d938c6fb72a', node_type=<ObjectType.DOCUMENT: '4'>, metadata={}, hash='c9a06852cac5401dfd02a2c4d728a97e77b1a3091ba33b2f00d88cfb1a2a4b96'), <NodeRelationship.PREVIOUS: '2'>: RelatedNodeInfo(node_id='195a0fd1-bf3e-416c-89ea-1b48b4419c75', node_type=<ObjectType.TEXT: '1'>, metadata={}, hash='fab5192e5fb34d45e46e072b26a66da85dd197a0a8dde75166aa113c7c241549'), <NodeRelationship.NEXT: '3'>: RelatedNodeInfo(node_id='7ec116d3-97ab-46fd-b1d0-0d159d151f83', node_type=<ObjectType.TEXT: '1'>, metadata={}, hash='036ee80ee57d9c825ebfcb6a201fbcf463c2f22af26b32b4297224dd9e90940d')}, metadata_template='{key}: {value}', metadata_separator='\\n', text='\"เมืองกรุงเก่า\"เมื่อ พ.ศ. 2325 ในรัชสมัยพระบาทสมเด็จพระพุทธยอดฟ้าจุฬาโลกมหาราช', mimetype='text/plain', start_char_idx=983, end_char_idx=1061, metadata_seperator='\\n', text_template='{metadata_str}\\n\\n{content}'),\n",
       " TextNode(id_='7ec116d3-97ab-46fd-b1d0-0d159d151f83', embedding=None, metadata={}, excluded_embed_metadata_keys=[], excluded_llm_metadata_keys=[], relationships={<NodeRelationship.SOURCE: '1'>: RelatedNodeInfo(node_id='bdc38f95-9e2b-4bee-b559-0d938c6fb72a', node_type=<ObjectType.DOCUMENT: '4'>, metadata={}, hash='c9a06852cac5401dfd02a2c4d728a97e77b1a3091ba33b2f00d88cfb1a2a4b96'), <NodeRelationship.PREVIOUS: '2'>: RelatedNodeInfo(node_id='7e01e0cb-0dd0-4d39-8ef2-5fb083a3d284', node_type=<ObjectType.TEXT: '1'>, metadata={}, hash='ef92e2d2f19ababa2358a22ce4c291e1a33b991e6cb44f02450ff6d939103eb7'), <NodeRelationship.NEXT: '3'>: RelatedNodeInfo(node_id='cd26d2eb-c96b-45c3-87b3-0cac7a004651', node_type=<ObjectType.TEXT: '1'>, metadata={}, hash='14b4f655356fec0a4ecb0ae2390c1f6d5d42e2b625d58890d21ae67b9060bfea')}, metadata_template='{key}: {value}', metadata_separator='\\n', text='ในรัชสมัยพระบาทสมเด็จพระพุทธยอดฟ้าจุฬาโลกมหาราช ทรงยกเมืองกรุงเก่าขึ้นเป็น หัวเมืองจัตวา', mimetype='text/plain', start_char_idx=1014, end_char_idx=1102, metadata_seperator='\\n', text_template='{metadata_str}\\n\\n{content}'),\n",
       " TextNode(id_='cd26d2eb-c96b-45c3-87b3-0cac7a004651', embedding=None, metadata={}, excluded_embed_metadata_keys=[], excluded_llm_metadata_keys=[], relationships={<NodeRelationship.SOURCE: '1'>: RelatedNodeInfo(node_id='bdc38f95-9e2b-4bee-b559-0d938c6fb72a', node_type=<ObjectType.DOCUMENT: '4'>, metadata={}, hash='c9a06852cac5401dfd02a2c4d728a97e77b1a3091ba33b2f00d88cfb1a2a4b96'), <NodeRelationship.PREVIOUS: '2'>: RelatedNodeInfo(node_id='7ec116d3-97ab-46fd-b1d0-0d159d151f83', node_type=<ObjectType.TEXT: '1'>, metadata={}, hash='036ee80ee57d9c825ebfcb6a201fbcf463c2f22af26b32b4297224dd9e90940d'), <NodeRelationship.NEXT: '3'>: RelatedNodeInfo(node_id='ef6b2311-9866-4b51-820b-8d26d6961906', node_type=<ObjectType.TEXT: '1'>, metadata={}, hash='5c695968583674b39a56ed28095f374a79f8c97b81466b8a825fca85dfe1a5ec')}, metadata_template='{key}: {value}', metadata_separator='\\n', text='ทรงยกเมืองกรุงเก่าขึ้นเป็น หัวเมืองจัตวา เช่นเดียวกับในสมัยกรุงธนบุรี หลังจากนั้น', mimetype='text/plain', start_char_idx=1062, end_char_idx=1143, metadata_seperator='\\n', text_template='{metadata_str}\\n\\n{content}'),\n",
       " TextNode(id_='ef6b2311-9866-4b51-820b-8d26d6961906', embedding=None, metadata={}, excluded_embed_metadata_keys=[], excluded_llm_metadata_keys=[], relationships={<NodeRelationship.SOURCE: '1'>: RelatedNodeInfo(node_id='bdc38f95-9e2b-4bee-b559-0d938c6fb72a', node_type=<ObjectType.DOCUMENT: '4'>, metadata={}, hash='c9a06852cac5401dfd02a2c4d728a97e77b1a3091ba33b2f00d88cfb1a2a4b96'), <NodeRelationship.PREVIOUS: '2'>: RelatedNodeInfo(node_id='cd26d2eb-c96b-45c3-87b3-0cac7a004651', node_type=<ObjectType.TEXT: '1'>, metadata={}, hash='14b4f655356fec0a4ecb0ae2390c1f6d5d42e2b625d58890d21ae67b9060bfea'), <NodeRelationship.NEXT: '3'>: RelatedNodeInfo(node_id='a0798c69-9c26-425c-8a83-9b3d6daecf5e', node_type=<ObjectType.TEXT: '1'>, metadata={}, hash='5e4e0709b031491d983e9d277eb9ed3ba00bd4c8c7618992d55947337c0162c2')}, metadata_template='{key}: {value}', metadata_separator='\\n', text='พระบาทสมเด็จพระจุลจอมเกล้าเจ้าอยู่หัวโปรดให้จัดการปฏิรูปการปกครองทั้งส่วนกลางและส่วนภูมิภาค', mimetype='text/plain', start_char_idx=1144, end_char_idx=1235, metadata_seperator='\\n', text_template='{metadata_str}\\n\\n{content}'),\n",
       " TextNode(id_='a0798c69-9c26-425c-8a83-9b3d6daecf5e', embedding=None, metadata={}, excluded_embed_metadata_keys=[], excluded_llm_metadata_keys=[], relationships={<NodeRelationship.SOURCE: '1'>: RelatedNodeInfo(node_id='bdc38f95-9e2b-4bee-b559-0d938c6fb72a', node_type=<ObjectType.DOCUMENT: '4'>, metadata={}, hash='c9a06852cac5401dfd02a2c4d728a97e77b1a3091ba33b2f00d88cfb1a2a4b96'), <NodeRelationship.PREVIOUS: '2'>: RelatedNodeInfo(node_id='ef6b2311-9866-4b51-820b-8d26d6961906', node_type=<ObjectType.TEXT: '1'>, metadata={}, hash='5c695968583674b39a56ed28095f374a79f8c97b81466b8a825fca85dfe1a5ec'), <NodeRelationship.NEXT: '3'>: RelatedNodeInfo(node_id='f5ee2a7d-f38f-4a14-b93b-87ac88ce4aa8', node_type=<ObjectType.TEXT: '1'>, metadata={}, hash='426a79a20d5d3f89d0c6dfbea64abcc306075cc01f82a29b399f8882edb4e875')}, metadata_template='{key}: {value}', metadata_separator='\\n', text='โดยการปกครองส่วนภูมิภาคนั้น โปรดให้จัดการปกครองแบบเทศาภิบาลขึ้น โดยให้รวมเมืองที่อยู่ใกล้เคียงกัน', mimetype='text/plain', start_char_idx=1236, end_char_idx=1333, metadata_seperator='\\n', text_template='{metadata_str}\\n\\n{content}'),\n",
       " TextNode(id_='f5ee2a7d-f38f-4a14-b93b-87ac88ce4aa8', embedding=None, metadata={}, excluded_embed_metadata_keys=[], excluded_llm_metadata_keys=[], relationships={<NodeRelationship.SOURCE: '1'>: RelatedNodeInfo(node_id='bdc38f95-9e2b-4bee-b559-0d938c6fb72a', node_type=<ObjectType.DOCUMENT: '4'>, metadata={}, hash='c9a06852cac5401dfd02a2c4d728a97e77b1a3091ba33b2f00d88cfb1a2a4b96'), <NodeRelationship.PREVIOUS: '2'>: RelatedNodeInfo(node_id='a0798c69-9c26-425c-8a83-9b3d6daecf5e', node_type=<ObjectType.TEXT: '1'>, metadata={}, hash='5e4e0709b031491d983e9d277eb9ed3ba00bd4c8c7618992d55947337c0162c2'), <NodeRelationship.NEXT: '3'>: RelatedNodeInfo(node_id='983e1400-e7d3-42a9-ad50-4652cb3c2f9b', node_type=<ObjectType.TEXT: '1'>, metadata={}, hash='dfd3cad74b170d71bd86f5884722c8e413ed3b572fec8dcad58194905bc6f9ae')}, metadata_template='{key}: {value}', metadata_separator='\\n', text='โดยให้รวมเมืองที่อยู่ใกล้เคียงกัน 3-4 เมือง ขึ้นเป็นมณฑล มีข้าหลวงเทศาภิบาลเป็นผู้ปกครอง โดยในปี', mimetype='text/plain', start_char_idx=1300, end_char_idx=1396, metadata_seperator='\\n', text_template='{metadata_str}\\n\\n{content}'),\n",
       " TextNode(id_='983e1400-e7d3-42a9-ad50-4652cb3c2f9b', embedding=None, metadata={}, excluded_embed_metadata_keys=[], excluded_llm_metadata_keys=[], relationships={<NodeRelationship.SOURCE: '1'>: RelatedNodeInfo(node_id='bdc38f95-9e2b-4bee-b559-0d938c6fb72a', node_type=<ObjectType.DOCUMENT: '4'>, metadata={}, hash='c9a06852cac5401dfd02a2c4d728a97e77b1a3091ba33b2f00d88cfb1a2a4b96'), <NodeRelationship.PREVIOUS: '2'>: RelatedNodeInfo(node_id='f5ee2a7d-f38f-4a14-b93b-87ac88ce4aa8', node_type=<ObjectType.TEXT: '1'>, metadata={}, hash='426a79a20d5d3f89d0c6dfbea64abcc306075cc01f82a29b399f8882edb4e875'), <NodeRelationship.NEXT: '3'>: RelatedNodeInfo(node_id='7a28d653-08fd-4d14-a9f8-c9ce80ec846c', node_type=<ObjectType.TEXT: '1'>, metadata={}, hash='d9a32e0118b40c4de21c6569931fe888388499656a397a43f7425f4e8e47d62b')}, metadata_template='{key}: {value}', metadata_separator='\\n', text='มีข้าหลวงเทศาภิบาลเป็นผู้ปกครอง โดยในปี พ.ศ. 2438 โปรดให้จัดตั้งมณฑลกรุงเก่าขึ้น', mimetype='text/plain', start_char_idx=1357, end_char_idx=1437, metadata_seperator='\\n', text_template='{metadata_str}\\n\\n{content}'),\n",
       " TextNode(id_='7a28d653-08fd-4d14-a9f8-c9ce80ec846c', embedding=None, metadata={}, excluded_embed_metadata_keys=[], excluded_llm_metadata_keys=[], relationships={<NodeRelationship.SOURCE: '1'>: RelatedNodeInfo(node_id='bdc38f95-9e2b-4bee-b559-0d938c6fb72a', node_type=<ObjectType.DOCUMENT: '4'>, metadata={}, hash='c9a06852cac5401dfd02a2c4d728a97e77b1a3091ba33b2f00d88cfb1a2a4b96'), <NodeRelationship.PREVIOUS: '2'>: RelatedNodeInfo(node_id='983e1400-e7d3-42a9-ad50-4652cb3c2f9b', node_type=<ObjectType.TEXT: '1'>, metadata={}, hash='dfd3cad74b170d71bd86f5884722c8e413ed3b572fec8dcad58194905bc6f9ae'), <NodeRelationship.NEXT: '3'>: RelatedNodeInfo(node_id='e87e0478-9f28-40e7-a342-421bc9a2cfad', node_type=<ObjectType.TEXT: '1'>, metadata={}, hash='05834db4a21d02f4a4d07188333976b372e30f4e0dc3362eebdbd86e8eaadc03')}, metadata_template='{key}: {value}', metadata_separator='\\n', text='โดยในปี พ.ศ. 2438 โปรดให้จัดตั้งมณฑลกรุงเก่าขึ้น ประกอบด้วยหัวเมืองต่าง ๆ คือ กรุงเก่าหรืออยุธยา', mimetype='text/plain', start_char_idx=1389, end_char_idx=1485, metadata_seperator='\\n', text_template='{metadata_str}\\n\\n{content}'),\n",
       " TextNode(id_='e87e0478-9f28-40e7-a342-421bc9a2cfad', embedding=None, metadata={}, excluded_embed_metadata_keys=[], excluded_llm_metadata_keys=[], relationships={<NodeRelationship.SOURCE: '1'>: RelatedNodeInfo(node_id='bdc38f95-9e2b-4bee-b559-0d938c6fb72a', node_type=<ObjectType.DOCUMENT: '4'>, metadata={}, hash='c9a06852cac5401dfd02a2c4d728a97e77b1a3091ba33b2f00d88cfb1a2a4b96'), <NodeRelationship.PREVIOUS: '2'>: RelatedNodeInfo(node_id='7a28d653-08fd-4d14-a9f8-c9ce80ec846c', node_type=<ObjectType.TEXT: '1'>, metadata={}, hash='d9a32e0118b40c4de21c6569931fe888388499656a397a43f7425f4e8e47d62b'), <NodeRelationship.NEXT: '3'>: RelatedNodeInfo(node_id='98d21b5a-516b-4ea2-b982-ff7295f2e15f', node_type=<ObjectType.TEXT: '1'>, metadata={}, hash='60178502b1ebe6d23ad74c6cc0238045110082927266e083d8abf41ce3e5677a')}, metadata_template='{key}: {value}', metadata_separator='\\n', text='ประกอบด้วยหัวเมืองต่าง ๆ คือ กรุงเก่าหรืออยุธยา อ่างทอง สระบุรี พระพุทธบาท ลพบุรี พรหมบุรี อินทร์บุรี', mimetype='text/plain', start_char_idx=1438, end_char_idx=1539, metadata_seperator='\\n', text_template='{metadata_str}\\n\\n{content}'),\n",
       " TextNode(id_='98d21b5a-516b-4ea2-b982-ff7295f2e15f', embedding=None, metadata={}, excluded_embed_metadata_keys=[], excluded_llm_metadata_keys=[], relationships={<NodeRelationship.SOURCE: '1'>: RelatedNodeInfo(node_id='bdc38f95-9e2b-4bee-b559-0d938c6fb72a', node_type=<ObjectType.DOCUMENT: '4'>, metadata={}, hash='c9a06852cac5401dfd02a2c4d728a97e77b1a3091ba33b2f00d88cfb1a2a4b96'), <NodeRelationship.PREVIOUS: '2'>: RelatedNodeInfo(node_id='e87e0478-9f28-40e7-a342-421bc9a2cfad', node_type=<ObjectType.TEXT: '1'>, metadata={}, hash='05834db4a21d02f4a4d07188333976b372e30f4e0dc3362eebdbd86e8eaadc03'), <NodeRelationship.NEXT: '3'>: RelatedNodeInfo(node_id='6fd8d946-51aa-4f11-8b5a-8f27d8ca35a6', node_type=<ObjectType.TEXT: '1'>, metadata={}, hash='88716160aa8366f6dc7b33f8240a19ce32fc821e637669c6c906bc6e4cc0a6b6')}, metadata_template='{key}: {value}', metadata_separator='\\n', text='สระบุรี พระพุทธบาท ลพบุรี พรหมบุรี อินทร์บุรี และสิงห์บุรีต่อมาทรงพระกรุณาโปรดเกล้าฯ', mimetype='text/plain', start_char_idx=1494, end_char_idx=1578, metadata_seperator='\\n', text_template='{metadata_str}\\n\\n{content}'),\n",
       " TextNode(id_='6fd8d946-51aa-4f11-8b5a-8f27d8ca35a6', embedding=None, metadata={}, excluded_embed_metadata_keys=[], excluded_llm_metadata_keys=[], relationships={<NodeRelationship.SOURCE: '1'>: RelatedNodeInfo(node_id='bdc38f95-9e2b-4bee-b559-0d938c6fb72a', node_type=<ObjectType.DOCUMENT: '4'>, metadata={}, hash='c9a06852cac5401dfd02a2c4d728a97e77b1a3091ba33b2f00d88cfb1a2a4b96'), <NodeRelationship.PREVIOUS: '2'>: RelatedNodeInfo(node_id='98d21b5a-516b-4ea2-b982-ff7295f2e15f', node_type=<ObjectType.TEXT: '1'>, metadata={}, hash='60178502b1ebe6d23ad74c6cc0238045110082927266e083d8abf41ce3e5677a'), <NodeRelationship.NEXT: '3'>: RelatedNodeInfo(node_id='69a69fcb-1357-416c-838e-2a7da1c0cc50', node_type=<ObjectType.TEXT: '1'>, metadata={}, hash='2ff7bd61e100b9440b04ff3a4ca9e853adbab64c3812fb5e36e33a9c17ea3879')}, metadata_template='{key}: {value}', metadata_separator='\\n', text='และสิงห์บุรีต่อมาทรงพระกรุณาโปรดเกล้าฯ ให้รวมเมืองอินทร์บุรีและเมืองพรหมบุรีเข้ากับเมืองสิงห์บุรี', mimetype='text/plain', start_char_idx=1540, end_char_idx=1637, metadata_seperator='\\n', text_template='{metadata_str}\\n\\n{content}'),\n",
       " TextNode(id_='69a69fcb-1357-416c-838e-2a7da1c0cc50', embedding=None, metadata={}, excluded_embed_metadata_keys=[], excluded_llm_metadata_keys=[], relationships={<NodeRelationship.SOURCE: '1'>: RelatedNodeInfo(node_id='bdc38f95-9e2b-4bee-b559-0d938c6fb72a', node_type=<ObjectType.DOCUMENT: '4'>, metadata={}, hash='c9a06852cac5401dfd02a2c4d728a97e77b1a3091ba33b2f00d88cfb1a2a4b96'), <NodeRelationship.PREVIOUS: '2'>: RelatedNodeInfo(node_id='6fd8d946-51aa-4f11-8b5a-8f27d8ca35a6', node_type=<ObjectType.TEXT: '1'>, metadata={}, hash='88716160aa8366f6dc7b33f8240a19ce32fc821e637669c6c906bc6e4cc0a6b6'), <NodeRelationship.NEXT: '3'>: RelatedNodeInfo(node_id='79472490-a433-40da-8599-1ce4d6637965', node_type=<ObjectType.TEXT: '1'>, metadata={}, hash='dad7cc27bf124e6a4b7a672b012130a9b875e6a3c866270ab38f788e33690452')}, metadata_template='{key}: {value}', metadata_separator='\\n', text='รวมเมืองพระพุทธบาทเข้ากับเมืองสระบุรี ตั้งที่ว่าการมณฑลที่อยุธยา และในปี พ.ศ. 2469 เปลี่ยนชื่อจาก', mimetype='text/plain', start_char_idx=1638, end_char_idx=1735, metadata_seperator='\\n', text_template='{metadata_str}\\n\\n{content}'),\n",
       " TextNode(id_='79472490-a433-40da-8599-1ce4d6637965', embedding=None, metadata={}, excluded_embed_metadata_keys=[], excluded_llm_metadata_keys=[], relationships={<NodeRelationship.SOURCE: '1'>: RelatedNodeInfo(node_id='bdc38f95-9e2b-4bee-b559-0d938c6fb72a', node_type=<ObjectType.DOCUMENT: '4'>, metadata={}, hash='c9a06852cac5401dfd02a2c4d728a97e77b1a3091ba33b2f00d88cfb1a2a4b96'), <NodeRelationship.PREVIOUS: '2'>: RelatedNodeInfo(node_id='69a69fcb-1357-416c-838e-2a7da1c0cc50', node_type=<ObjectType.TEXT: '1'>, metadata={}, hash='2ff7bd61e100b9440b04ff3a4ca9e853adbab64c3812fb5e36e33a9c17ea3879'), <NodeRelationship.NEXT: '3'>: RelatedNodeInfo(node_id='da995043-df60-4c27-99fd-29395bdd0ec9', node_type=<ObjectType.TEXT: '1'>, metadata={}, hash='342f48b721cdb6fb9ff0870d761f3e190a05da8a55f2a2d09d49bb4c6e9ab219')}, metadata_template='{key}: {value}', metadata_separator='\\n', text='และในปี พ.ศ. 2469 เปลี่ยนชื่อจาก \"มณฑลกรุงเก่า\" เป็น \"มณฑลอยุธยา\"', mimetype='text/plain', start_char_idx=1703, end_char_idx=1768, metadata_seperator='\\n', text_template='{metadata_str}\\n\\n{content}'),\n",
       " TextNode(id_='da995043-df60-4c27-99fd-29395bdd0ec9', embedding=None, metadata={}, excluded_embed_metadata_keys=[], excluded_llm_metadata_keys=[], relationships={<NodeRelationship.SOURCE: '1'>: RelatedNodeInfo(node_id='bdc38f95-9e2b-4bee-b559-0d938c6fb72a', node_type=<ObjectType.DOCUMENT: '4'>, metadata={}, hash='c9a06852cac5401dfd02a2c4d728a97e77b1a3091ba33b2f00d88cfb1a2a4b96'), <NodeRelationship.PREVIOUS: '2'>: RelatedNodeInfo(node_id='79472490-a433-40da-8599-1ce4d6637965', node_type=<ObjectType.TEXT: '1'>, metadata={}, hash='dad7cc27bf124e6a4b7a672b012130a9b875e6a3c866270ab38f788e33690452'), <NodeRelationship.NEXT: '3'>: RelatedNodeInfo(node_id='9c4fdd75-95f3-4fe0-8670-df54a04934c8', node_type=<ObjectType.TEXT: '1'>, metadata={}, hash='fc7f6a72463e26b8757368deb0496a1a442a686e32298c82f2d782ac5d32186e')}, metadata_template='{key}: {value}', metadata_separator='\\n', text='เป็น \"มณฑลอยุธยา\" ซึ่งจากการจัดตั้งมณฑลอยุธยามีผลให้อยุธยามีความสำคัญทางการบริหารการปกครองมากขึ้น', mimetype='text/plain', start_char_idx=1751, end_char_idx=1848, metadata_seperator='\\n', text_template='{metadata_str}\\n\\n{content}'),\n",
       " TextNode(id_='9c4fdd75-95f3-4fe0-8670-df54a04934c8', embedding=None, metadata={}, excluded_embed_metadata_keys=[], excluded_llm_metadata_keys=[], relationships={<NodeRelationship.SOURCE: '1'>: RelatedNodeInfo(node_id='bdc38f95-9e2b-4bee-b559-0d938c6fb72a', node_type=<ObjectType.DOCUMENT: '4'>, metadata={}, hash='c9a06852cac5401dfd02a2c4d728a97e77b1a3091ba33b2f00d88cfb1a2a4b96'), <NodeRelationship.PREVIOUS: '2'>: RelatedNodeInfo(node_id='da995043-df60-4c27-99fd-29395bdd0ec9', node_type=<ObjectType.TEXT: '1'>, metadata={}, hash='342f48b721cdb6fb9ff0870d761f3e190a05da8a55f2a2d09d49bb4c6e9ab219'), <NodeRelationship.NEXT: '3'>: RelatedNodeInfo(node_id='8bebb2fc-d5ff-4216-9817-33a20eb1a5df', node_type=<ObjectType.TEXT: '1'>, metadata={}, hash='e6d393861a42fe1807cef6121f929a5801cdc9a305f88c1a183f096ed0c16221')}, metadata_template='{key}: {value}', metadata_separator='\\n', text='การสร้างสิ่งสาธารณูปโภคหลายอย่างมีผลต่อการพัฒนาเมืองอยุธยาในเวลาต่อมา', mimetype='text/plain', start_char_idx=1849, end_char_idx=1918, metadata_seperator='\\n', text_template='{metadata_str}\\n\\n{content}'),\n",
       " TextNode(id_='8bebb2fc-d5ff-4216-9817-33a20eb1a5df', embedding=None, metadata={}, excluded_embed_metadata_keys=[], excluded_llm_metadata_keys=[], relationships={<NodeRelationship.SOURCE: '1'>: RelatedNodeInfo(node_id='bdc38f95-9e2b-4bee-b559-0d938c6fb72a', node_type=<ObjectType.DOCUMENT: '4'>, metadata={}, hash='c9a06852cac5401dfd02a2c4d728a97e77b1a3091ba33b2f00d88cfb1a2a4b96'), <NodeRelationship.PREVIOUS: '2'>: RelatedNodeInfo(node_id='9c4fdd75-95f3-4fe0-8670-df54a04934c8', node_type=<ObjectType.TEXT: '1'>, metadata={}, hash='fc7f6a72463e26b8757368deb0496a1a442a686e32298c82f2d782ac5d32186e'), <NodeRelationship.NEXT: '3'>: RelatedNodeInfo(node_id='25b06b3e-6509-472b-937d-2e85ccd1b449', node_type=<ObjectType.TEXT: '1'>, metadata={}, hash='cde41db18b8cf2b764e31bc75ec5c9ad0ce12487599d4cf7f40f4a9433075bbd')}, metadata_template='{key}: {value}', metadata_separator='\\n', text='จนเมื่อยกเลิกการปกครองระบบมณฑลเทศาภิบาล ภายหลังการเปลี่ยนแปลงการปกครอง พ.ศ. 2475', mimetype='text/plain', start_char_idx=1919, end_char_idx=1999, metadata_seperator='\\n', text_template='{metadata_str}\\n\\n{content}'),\n",
       " TextNode(id_='25b06b3e-6509-472b-937d-2e85ccd1b449', embedding=None, metadata={}, excluded_embed_metadata_keys=[], excluded_llm_metadata_keys=[], relationships={<NodeRelationship.SOURCE: '1'>: RelatedNodeInfo(node_id='bdc38f95-9e2b-4bee-b559-0d938c6fb72a', node_type=<ObjectType.DOCUMENT: '4'>, metadata={}, hash='c9a06852cac5401dfd02a2c4d728a97e77b1a3091ba33b2f00d88cfb1a2a4b96'), <NodeRelationship.PREVIOUS: '2'>: RelatedNodeInfo(node_id='8bebb2fc-d5ff-4216-9817-33a20eb1a5df', node_type=<ObjectType.TEXT: '1'>, metadata={}, hash='e6d393861a42fe1807cef6121f929a5801cdc9a305f88c1a183f096ed0c16221')}, metadata_template='{key}: {value}', metadata_separator='\\n', text='พ.ศ. 2475 อยุธยาจึงเปลี่ยนฐานะเป็นจังหวัดพระนครศรีอยุธยาจนถึงปัจจุบัน', mimetype='text/plain', start_char_idx=1990, end_char_idx=2059, metadata_seperator='\\n', text_template='{metadata_str}\\n\\n{content}')]"
      ]
     },
     "execution_count": 24,
     "metadata": {},
     "output_type": "execute_result"
    }
   ],
   "source": [
    "nodes"
   ]
  },
  {
   "cell_type": "code",
   "execution_count": null,
   "metadata": {},
   "outputs": [],
   "source": []
  }
 ],
 "metadata": {
  "kernelspec": {
   "display_name": "env",
   "language": "python",
   "name": "python3"
  },
  "language_info": {
   "codemirror_mode": {
    "name": "ipython",
    "version": 3
   },
   "file_extension": ".py",
   "mimetype": "text/x-python",
   "name": "python",
   "nbconvert_exporter": "python",
   "pygments_lexer": "ipython3",
   "version": "3.10.12"
  }
 },
 "nbformat": 4,
 "nbformat_minor": 2
}
