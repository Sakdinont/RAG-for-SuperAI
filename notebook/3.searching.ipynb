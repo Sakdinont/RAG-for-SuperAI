{
 "cells": [
  {
   "cell_type": "code",
   "execution_count": 9,
   "metadata": {},
   "outputs": [],
   "source": [
    "from llama_index.embeddings.huggingface import HuggingFaceEmbedding\n",
    "embedding_model_name = '../../bge-m3'\n",
    "# embedding_model_name = 'kornwtp/simcse-model-phayathaibert'\n",
    "embed_model = HuggingFaceEmbedding(model_name=embedding_model_name,max_length=1024, device='cpu')"
   ]
  },
  {
   "cell_type": "code",
   "execution_count": 10,
   "metadata": {},
   "outputs": [
    {
     "name": "stdout",
     "output_type": "stream",
     "text": [
      "LLM is explicitly disabled. Using MockLLM.\n"
     ]
    }
   ],
   "source": [
    "from llama_index.core import Settings\n",
    "\n",
    "Settings.llm = None\n",
    "Settings.embed_model = embed_model"
   ]
  },
  {
   "cell_type": "code",
   "execution_count": 11,
   "metadata": {},
   "outputs": [],
   "source": [
    "from llama_index.core import (\n",
    "\n",
    "    load_index_from_storage,\n",
    "    StorageContext,\n",
    ")\n",
    "\n",
    "from IPython.display import Markdown, display\n",
    "from llama_index.vector_stores.faiss import FaissVectorStore\n"
   ]
  },
  {
   "cell_type": "code",
   "execution_count": 12,
   "metadata": {},
   "outputs": [],
   "source": [
    "persist_dir=\"../../index\"\n",
    "vector_store = FaissVectorStore.from_persist_dir(persist_dir)\n",
    "storage_context = StorageContext.from_defaults(vector_store=vector_store, persist_dir=persist_dir)\n",
    "index = load_index_from_storage(storage_context=storage_context)"
   ]
  },
  {
   "cell_type": "code",
   "execution_count": 13,
   "metadata": {},
   "outputs": [
    {
     "name": "stdout",
     "output_type": "stream",
     "text": [
      "Response: ==\n",
      "\n",
      "ศูนย์ท่องเที่ยวอยุธยา (ATC)\n",
      "ศูนย์ศึกษาประวัติศาสตร์อยุธยา\n",
      "พิพิธภัณฑสถานแห่งชาติ เจ้าสามพระยา\n",
      "อุทยานประวัติศาสตร์พระนครศรีอยุธยา\n",
      "วัดพระศรีสรรเพชญ์\n",
      "พระราชวังโบราณ อยุธยา\n",
      "พระที่นั่งวิหารสมเด็จ\n",
      "พระที่นั่งสรรเพชญปราสาท\n",
      "พระที่นั่งสุริยาสน์อมรินทร์ \n",
      "\n",
      "Score: 0.710564374923706\n",
      "-------------------------------------------------- \n",
      "\n",
      "\n",
      "Response: เมื่อวันที่ 13 ธันวาคม พ.ศ. 2534 มีพื้นที่ครอบคลุมในบริเวณโบราณสถานเมืองอยุธยา\n",
      "\n",
      "\n",
      "== ภูมิศาสตร์ ==\n",
      "\n",
      "\n",
      "=== สภาพภูมิอากาศ ===\n",
      "\n",
      "\n",
      "== สัญลักษณ์ประจำจังหวัด ==\n",
      "คำขวัญประจำจังหวัด : ราชธานีเก่า อู่ข้าวอู่น้ำ เลิศล้ำกานท์กวี คนดีศรีอยุธยา เลอคุณค่ามรดกโลก\n",
      "ตราประจำจังหวัด : \n",
      "\n",
      "Score: 0.6318833827972412\n",
      "-------------------------------------------------- \n",
      "\n",
      "\n",
      "Response: 2020\n",
      "\n",
      "\n",
      "== แหล่งข้อมูลอื่น ==\n",
      "\n",
      "เว็บไซต์อย่างเป็นทางการของจังหวัด\n",
      "กรุงศรีอยุธยา\n",
      "เว็บไซต์อย่างเป็นทางการของ อยุธยา เวิลด์เอกซ์โป 2020\n",
      "ศูนย์การค้าอยุธยาซิตี้พาร์ค\n",
      "\n",
      "แผนที่และภาพถ่ายทางอากาศของ จังหวัดพระนครศรีอยุธยา\n",
      "แผนที่ จาก มัลติแมป  โกลบอลไกด์ หรือ \n",
      "\n",
      "Score: 0.5735669136047363\n",
      "-------------------------------------------------- \n",
      "\n",
      "\n",
      "Response: ประเภท มาตรฐาน 2 (จ) 2 (ต) 2 (ช)\n",
      "\n",
      "\n",
      "=== รถไฟ ===\n",
      "\n",
      "การเดินทางไปจังหวัดพระนครศรีอยุธยา สามารถใช้บริการรถไฟโดยสารที่มีปลายทางสู่ภาคเหนือและภาคตะวันออกเฉียงเหนือ ขบวนรถไฟจะผ่านจังหวัดพระนครศรีอยุธยาในเขตอำเภอบางปะอิน อำเภอพระนครศรีอยุธยา และอำเภอภาชี \n",
      "\n",
      "Score: 0.5633151531219482\n",
      "-------------------------------------------------- \n",
      "\n",
      "\n",
      "Response: พระนครศรีอยุธยา เป็นจังหวัดหนึ่งในภาคกลางและเป็นเขตเศรษฐกิจอุตสาหกรรมที่สำคัญ โดยมีผลิตภัณฑ์มวลรวมของจังหวัดมีมูลค่าสูงเป็นอันดับ 3 ของประเทศ และมีประวัติศาสตร์ความเป็นมาที่ยาวนาน เคยมีชื่อเสียงเป็นแหล่งปลูกข้าวที่สำคัญ \n",
      "\n",
      "Score: 0.5610805749893188\n",
      "-------------------------------------------------- \n",
      "\n",
      "\n"
     ]
    }
   ],
   "source": [
    "retriever = index.as_retriever(similarity_top_k=5)\n",
    "response = retriever.retrieve('แนะนำที่เที่ยวจังหวัดอยุธยาให้หน่อย')\n",
    "for i in range(5):\n",
    "    print('Response:', response[i].text,'\\n')\n",
    "    print('Score:', response[i].score)\n",
    "    print('-'*50,'\\n\\n')"
   ]
  },
  {
   "cell_type": "code",
   "execution_count": 14,
   "metadata": {},
   "outputs": [
    {
     "name": "stdout",
     "output_type": "stream",
     "text": [
      "Response: (ขึ้นกับอำเภอเสนา) และกิ่งอำเภอบ้านแพรก (ขึ้นกับอำเภอมหาราช) ได้รับการยกฐานะขึ้นเป็นอำเภอตามลำดับจนครบในปี พ.ศ. 2502\n",
      "\n",
      "\n",
      "=== การแบ่งเขตการปกครองในปัจจุบัน ===\n",
      "\n",
      "\n",
      "==== การปกครองส่วนภูมิภาค ====\n",
      "\n",
      "ปัจจุบันจังหวัดพระนครศรีอยุธยาประกอบด้วย 16 อำเภอ  209 ตำบล ได้แก่\n",
      "\n",
      "\n",
      "==== การปกครองส่วนท้องถิ่น \n",
      "\n",
      "Score: 0.7172748446464539\n",
      "-------------------------------------------------- \n",
      "\n",
      "\n",
      "Response: 30 แห่ง, และองค์การบริหารส่วนตำบล 121 แห่ง โดยเทศบาลสามารถจำแนกได้ตามอำเภอต่าง ๆ ดังนี้\n",
      "\n",
      "\n",
      "=== รายชื่อเจ้าเมืองและผู้ว่าราชการจังหวัด ===\n",
      "\n",
      "\n",
      "== เศรษฐกิจ ==\n",
      "\n",
      "จังหวัดพระนครศรีอยุธยาถือเป็นจังหวัดที่มีการเติบโตทางเศรษฐกิจอย่างต่อเนื่อง \n",
      "\n",
      "Score: 0.662232518196106\n",
      "-------------------------------------------------- \n",
      "\n",
      "\n",
      "Response: ====\n",
      "จังหวัดพระนครศรีอยุธยามีองค์กรปกครองส่วนท้องถิ่นจำนวนทั้งสิ้น 158 แห่ง แบ่งออกเป็น องค์การบริหารส่วนจังหวัด 1 แห่ง คือ องค์การบริหารส่วนจังหวัดพระนครศรีอยุธยา, เทศบาลนคร 1 แห่ง คือ เทศบาลนครพระนครศรีอยุธยา, เทศบาลเมือง 5 แห่ง, เทศบาลตำบล 30 แห่ง, \n",
      "\n",
      "Score: 0.6539162397384644\n",
      "-------------------------------------------------- \n",
      "\n",
      "\n",
      "Response: เพื่อให้ตรงกับชื่อตำบลที่ตั้งของที่ว่าการอำเภอ อำเภอต่าง ๆ ของจังหวัดพระนครศรีอยุธยาจึงได้มีการเปลี่ยนแปลงชื่อใหม่ ดังนี้\n",
      "\n",
      "และอีก 4 กิ่งอำเภอได้แก่ กิ่งอำเภอลาดบัวหลวง (ขึ้นกับอำเภอบางไทร), กิ่งอำเภอภาชี (ขึ้นกับอำเภออุทัย), กิ่งอำเภอบางซ้าย \n",
      "\n",
      "Score: 0.6221526861190796\n",
      "-------------------------------------------------- \n",
      "\n",
      "\n",
      "Response: จังหวัดพระนครศรีอยุธยาเป็นจังหวัดเดียวในประเทศไทยที่ไม่มีอำเภอเมือง แต่มี อำเภอพระนครศรีอยุธยา เป็นศูนย์กลางการบริหารจัดการด้านต่าง ๆ ชาวบ้านโดยทั่วไปนิยมเรียกอีกชื่อว่า \"กรุงเก่า\" หรือ \"เมืองกรุงเก่า\" ห่างจากกรุงเทพมหานครประมาณ 75 กิโลเมตร\n",
      "\n",
      "\n",
      "== ประวัติศาสตร์ \n",
      "\n",
      "Score: 0.6109629273414612\n",
      "-------------------------------------------------- \n",
      "\n",
      "\n"
     ]
    }
   ],
   "source": [
    "retriever = index.as_retriever(similarity_top_k=5)\n",
    "response = retriever.retrieve('อยุธยามีกี่อำเภอ')\n",
    "for i in range(5):\n",
    "    print('Response:', response[i].text,'\\n')\n",
    "    print('Score:', response[i].score)\n",
    "    print('-'*50,'\\n\\n')"
   ]
  },
  {
   "cell_type": "code",
   "execution_count": 15,
   "metadata": {},
   "outputs": [
    {
     "name": "stdout",
     "output_type": "stream",
     "text": [
      "Response: 1 ในความหมายว่าเมืองของพระเจ้าศรีธรรมาโศกราช นครศรีธรรมราชมีอิทธิพลต่อพุทธศาสนาของสุโขทัยอย่างมาก ดังข้อความในศิลาจารึกฯว่าพระเถระสุโขทัย \"ทุกคนลุกแต่เมืองศรีธรรมราชมา\"\n",
      "ในพ.ศ. 1808 ทัพเรือของอาณาจักรมัชปาหิตบนเกาะชวายกทัพเข้าโจมตีเมืองนครศรีธรรมราช \n",
      "\n",
      "Score: 0.5175894498825073\n",
      "-------------------------------------------------- \n",
      "\n",
      "\n",
      "Response: ทางรถไฟจะแยกไปภาคเหนือและภาคตะวันออกเฉียงเหนือที่สถานีรถไฟชุมทางบ้านภาชี\n",
      "\n",
      "\n",
      "=== การคมนาคมภายในตัวจังหวัดพระนครศรีอยุธยา ===\n",
      "รถสามล้อเครื่อง คิดค่าโดยสารตามระยะทาง\n",
      "รถสามล้อถีบ คิดค่าโดยสารตามระยะทาง\n",
      "รถจักรยานยนต์รับจ้าง คิดค่าโดยสารตามระยะทาง\n",
      "รถสองแถว มีหลายสาย \n",
      "\n",
      "Score: 0.5156203508377075\n",
      "-------------------------------------------------- \n",
      "\n",
      "\n",
      "Response: แล้วใช้เส้นทางหลวงแผ่นดินหมายเลข 41 ผ่านสุราษฎร์ธานี-ทุ่งสง จนถึงนครศรีธรรมราช หรือ ถึงอำเภอพุนพิน สุราษฎร์ธานี แล้วใช้เส้นทางหลวงแผ่นดินหมายเลข 401 เลียบชายฝั่งทะเล ไปจนถึงนครศรีธรรมราช รวมระยะทาง 780 กิโลเมตร นอกจากนี้ยังสามารถเดินทางยังอำเภออื่น ๆ \n",
      "\n",
      "Score: 0.5153138637542725\n",
      "-------------------------------------------------- \n",
      "\n",
      "\n",
      "Response: 356\n",
      "การเดินทางเข้าสู่จังหวัดพระนครศรีอยุธยา\n",
      "\n",
      "ทางหลวงแผ่นดินหมายเลข 1 (ถนนพหลโยธิน) ผ่านประตูน้ำพระอินทร์แล้วแยกเข้าทางหลวงแผ่นดินหมายเลข 32 เลี้ยวซ้ายไปตามทางหลวงแผ่นดินหมายเลข 309 เข้าสู่จังหวัดพระนครศรีอยุธยา\n",
      "ทางหลวงแผ่นดินหมายเลข 304 (ถนนแจ้งวัฒนะ) \n",
      "\n",
      "Score: 0.5132213234901428\n",
      "-------------------------------------------------- \n",
      "\n",
      "\n",
      "Response: 85/86 ไปนครศรีธรรมราช รวมระยะทาง 832 กิโลเมตร\n",
      "และ ยังมีขบวนรถท้องถิ่นที่ 451/452 นครศรีธรรมราช-สุไหงโกลก-นครศรีธรรมราช\n",
      "และ ขบวนรถท้องถิ่นที่ 455/456 นครศรีธรรมราช-ยะลา-นครศรีธรรมราช\n",
      "\n",
      "\n",
      "=== ทางรถโดยสารประจำทาง ===\n",
      "บริษัท ขนส่ง จำกัด มีบริการรถโดยสารทั้งแบบธรรมดา \n",
      "\n",
      "Score: 0.4989612400531769\n",
      "-------------------------------------------------- \n",
      "\n",
      "\n"
     ]
    }
   ],
   "source": [
    "retriever = index.as_retriever(similarity_top_k=5)\n",
    "response = retriever.retrieve('เดินทางไปสุโขทัยยังไง')\n",
    "for i in range(5):\n",
    "    print('Response:', response[i].text,'\\n')\n",
    "    print('Score:', response[i].score)\n",
    "    print('-'*50,'\\n\\n')"
   ]
  },
  {
   "cell_type": "code",
   "execution_count": 16,
   "metadata": {},
   "outputs": [
    {
     "name": "stdout",
     "output_type": "stream",
     "text": [
      "Context information is below.\n",
      "---------------------\n",
      "==\n",
      "\n",
      "ศูนย์ท่องเที่ยวอยุธยา (ATC)\n",
      "ศูนย์ศึกษาประวัติศาสตร์อยุธยา\n",
      "พิพิธภัณฑสถานแห่งชาติ เจ้าสามพระยา\n",
      "อุทยานประวัติศาสตร์พระนครศรีอยุธยา\n",
      "วัดพระศรีสรรเพชญ์\n",
      "พระราชวังโบราณ อยุธยา\n",
      "พระที่นั่งวิหารสมเด็จ\n",
      "พระที่นั่งสรรเพชญปราสาท\n",
      "พระที่นั่งสุริยาสน์อมรินทร์\n",
      "\n",
      "ประเภท มาตรฐาน 2 (จ) 2 (ต) 2 (ช)\n",
      "\n",
      "\n",
      "=== รถไฟ ===\n",
      "\n",
      "การเดินทางไปจังหวัดพระนครศรีอยุธยา สามารถใช้บริการรถไฟโดยสารที่มีปลายทางสู่ภาคเหนือและภาคตะวันออกเฉียงเหนือ ขบวนรถไฟจะผ่านจังหวัดพระนครศรีอยุธยาในเขตอำเภอบางปะอิน อำเภอพระนครศรีอยุธยา และอำเภอภาชี\n",
      "---------------------\n",
      "Given the context information and not prior knowledge, answer the query.\n",
      "Query: เดินทางไปอยุธยา\n",
      "Answer: \n"
     ]
    }
   ],
   "source": [
    "query_engine = index.as_query_engine(simlarity_top=5)\n",
    "res = query_engine.query(\"เดินทางไปอยุธยา\")\n",
    "print(res)"
   ]
  },
  {
   "cell_type": "code",
   "execution_count": 17,
   "metadata": {},
   "outputs": [
    {
     "name": "stderr",
     "output_type": "stream",
     "text": [
      "huggingface/tokenizers: The current process just got forked, after parallelism has already been used. Disabling parallelism to avoid deadlocks...\n",
      "To disable this warning, you can either:\n",
      "\t- Avoid using `tokenizers` before the fork if possible\n",
      "\t- Explicitly set the environment variable TOKENIZERS_PARALLELISM=(true | false)\n"
     ]
    },
    {
     "name": "stdout",
     "output_type": "stream",
     "text": [
      "Requirement already satisfied: fastapi in /home/sakdinont/dev/env/lib/python3.10/site-packages (0.115.7)\n",
      "Requirement already satisfied: uvicorn in /home/sakdinont/dev/env/lib/python3.10/site-packages (0.34.0)\n",
      "Requirement already satisfied: typing-extensions>=4.8.0 in /home/sakdinont/dev/env/lib/python3.10/site-packages (from fastapi) (4.12.2)\n",
      "Requirement already satisfied: starlette<0.46.0,>=0.40.0 in /home/sakdinont/dev/env/lib/python3.10/site-packages (from fastapi) (0.45.3)\n",
      "Requirement already satisfied: pydantic!=1.8,!=1.8.1,!=2.0.0,!=2.0.1,!=2.1.0,<3.0.0,>=1.7.4 in /home/sakdinont/dev/env/lib/python3.10/site-packages (from fastapi) (2.10.6)\n",
      "Requirement already satisfied: click>=7.0 in /home/sakdinont/dev/env/lib/python3.10/site-packages (from uvicorn) (8.1.8)\n",
      "Requirement already satisfied: h11>=0.8 in /home/sakdinont/dev/env/lib/python3.10/site-packages (from uvicorn) (0.14.0)\n",
      "Requirement already satisfied: pydantic-core==2.27.2 in /home/sakdinont/dev/env/lib/python3.10/site-packages (from pydantic!=1.8,!=1.8.1,!=2.0.0,!=2.0.1,!=2.1.0,<3.0.0,>=1.7.4->fastapi) (2.27.2)\n",
      "Requirement already satisfied: annotated-types>=0.6.0 in /home/sakdinont/dev/env/lib/python3.10/site-packages (from pydantic!=1.8,!=1.8.1,!=2.0.0,!=2.0.1,!=2.1.0,<3.0.0,>=1.7.4->fastapi) (0.7.0)\n",
      "Requirement already satisfied: anyio<5,>=3.6.2 in /home/sakdinont/dev/env/lib/python3.10/site-packages (from starlette<0.46.0,>=0.40.0->fastapi) (4.8.0)\n",
      "Requirement already satisfied: sniffio>=1.1 in /home/sakdinont/dev/env/lib/python3.10/site-packages (from anyio<5,>=3.6.2->starlette<0.46.0,>=0.40.0->fastapi) (1.3.1)\n",
      "Requirement already satisfied: exceptiongroup>=1.0.2 in /home/sakdinont/dev/env/lib/python3.10/site-packages (from anyio<5,>=3.6.2->starlette<0.46.0,>=0.40.0->fastapi) (1.2.2)\n",
      "Requirement already satisfied: idna>=2.8 in /home/sakdinont/dev/env/lib/python3.10/site-packages (from anyio<5,>=3.6.2->starlette<0.46.0,>=0.40.0->fastapi) (3.10)\n",
      "Note: you may need to restart the kernel to use updated packages.\n"
     ]
    }
   ],
   "source": [
    "%pip install fastapi uvicorn"
   ]
  }
 ],
 "metadata": {
  "kernelspec": {
   "display_name": "env",
   "language": "python",
   "name": "python3"
  },
  "language_info": {
   "codemirror_mode": {
    "name": "ipython",
    "version": 3
   },
   "file_extension": ".py",
   "mimetype": "text/x-python",
   "name": "python",
   "nbconvert_exporter": "python",
   "pygments_lexer": "ipython3",
   "version": "3.10.12"
  }
 },
 "nbformat": 4,
 "nbformat_minor": 2
}
